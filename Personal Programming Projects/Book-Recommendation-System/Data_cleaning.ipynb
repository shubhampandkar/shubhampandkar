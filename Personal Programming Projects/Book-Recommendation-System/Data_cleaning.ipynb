{
 "cells": [
  {
   "cell_type": "code",
   "execution_count": 31,
   "id": "e2033625",
   "metadata": {},
   "outputs": [],
   "source": [
    "#importing libraries\n",
    "import numpy as np\n",
    "import pandas as pd"
   ]
  },
  {
   "cell_type": "code",
   "execution_count": 36,
   "id": "36bd7129",
   "metadata": {},
   "outputs": [
    {
     "name": "stderr",
     "output_type": "stream",
     "text": [
      "/opt/anaconda3/lib/python3.8/site-packages/IPython/core/interactiveshell.py:3165: DtypeWarning: Columns (3) have mixed types.Specify dtype option on import or set low_memory=False.\n",
      "  has_raised = await self.run_ast_nodes(code_ast.body, cell_name,\n"
     ]
    }
   ],
   "source": [
    "books = pd.read_csv('Books.csv',encoding='latin-1')\n",
    "ratings = pd.read_csv('Ratings.csv', encoding='latin-1')\n",
    "users = pd.read_csv('Users.csv', encoding='latin-1')"
   ]
  },
  {
   "cell_type": "markdown",
   "id": "8202b5a3",
   "metadata": {},
   "source": [
    "## Data Cleaning "
   ]
  },
  {
   "cell_type": "markdown",
   "id": "6268604b",
   "metadata": {},
   "source": [
    "### Books dataframe"
   ]
  },
  {
   "cell_type": "code",
   "execution_count": 37,
   "id": "9347ce7c",
   "metadata": {},
   "outputs": [
    {
     "data": {
      "text/html": [
       "<div>\n",
       "<style scoped>\n",
       "    .dataframe tbody tr th:only-of-type {\n",
       "        vertical-align: middle;\n",
       "    }\n",
       "\n",
       "    .dataframe tbody tr th {\n",
       "        vertical-align: top;\n",
       "    }\n",
       "\n",
       "    .dataframe thead th {\n",
       "        text-align: right;\n",
       "    }\n",
       "</style>\n",
       "<table border=\"1\" class=\"dataframe\">\n",
       "  <thead>\n",
       "    <tr style=\"text-align: right;\">\n",
       "      <th></th>\n",
       "      <th>ISBN</th>\n",
       "      <th>Book-Title</th>\n",
       "      <th>Book-Author</th>\n",
       "      <th>Year-Of-Publication</th>\n",
       "      <th>Publisher</th>\n",
       "      <th>Image-URL-S</th>\n",
       "      <th>Image-URL-M</th>\n",
       "      <th>Image-URL-L</th>\n",
       "    </tr>\n",
       "  </thead>\n",
       "  <tbody>\n",
       "    <tr>\n",
       "      <th>0</th>\n",
       "      <td>0195153448</td>\n",
       "      <td>Classical Mythology</td>\n",
       "      <td>Mark P. O. Morford</td>\n",
       "      <td>2002</td>\n",
       "      <td>Oxford University Press</td>\n",
       "      <td>http://images.amazon.com/images/P/0195153448.0...</td>\n",
       "      <td>http://images.amazon.com/images/P/0195153448.0...</td>\n",
       "      <td>http://images.amazon.com/images/P/0195153448.0...</td>\n",
       "    </tr>\n",
       "    <tr>\n",
       "      <th>1</th>\n",
       "      <td>0002005018</td>\n",
       "      <td>Clara Callan</td>\n",
       "      <td>Richard Bruce Wright</td>\n",
       "      <td>2001</td>\n",
       "      <td>HarperFlamingo Canada</td>\n",
       "      <td>http://images.amazon.com/images/P/0002005018.0...</td>\n",
       "      <td>http://images.amazon.com/images/P/0002005018.0...</td>\n",
       "      <td>http://images.amazon.com/images/P/0002005018.0...</td>\n",
       "    </tr>\n",
       "    <tr>\n",
       "      <th>2</th>\n",
       "      <td>0060973129</td>\n",
       "      <td>Decision in Normandy</td>\n",
       "      <td>Carlo D'Este</td>\n",
       "      <td>1991</td>\n",
       "      <td>HarperPerennial</td>\n",
       "      <td>http://images.amazon.com/images/P/0060973129.0...</td>\n",
       "      <td>http://images.amazon.com/images/P/0060973129.0...</td>\n",
       "      <td>http://images.amazon.com/images/P/0060973129.0...</td>\n",
       "    </tr>\n",
       "    <tr>\n",
       "      <th>3</th>\n",
       "      <td>0374157065</td>\n",
       "      <td>Flu: The Story of the Great Influenza Pandemic...</td>\n",
       "      <td>Gina Bari Kolata</td>\n",
       "      <td>1999</td>\n",
       "      <td>Farrar Straus Giroux</td>\n",
       "      <td>http://images.amazon.com/images/P/0374157065.0...</td>\n",
       "      <td>http://images.amazon.com/images/P/0374157065.0...</td>\n",
       "      <td>http://images.amazon.com/images/P/0374157065.0...</td>\n",
       "    </tr>\n",
       "    <tr>\n",
       "      <th>4</th>\n",
       "      <td>0393045218</td>\n",
       "      <td>The Mummies of Urumchi</td>\n",
       "      <td>E. J. W. Barber</td>\n",
       "      <td>1999</td>\n",
       "      <td>W. W. Norton &amp;amp; Company</td>\n",
       "      <td>http://images.amazon.com/images/P/0393045218.0...</td>\n",
       "      <td>http://images.amazon.com/images/P/0393045218.0...</td>\n",
       "      <td>http://images.amazon.com/images/P/0393045218.0...</td>\n",
       "    </tr>\n",
       "  </tbody>\n",
       "</table>\n",
       "</div>"
      ],
      "text/plain": [
       "         ISBN                                         Book-Title  \\\n",
       "0  0195153448                                Classical Mythology   \n",
       "1  0002005018                                       Clara Callan   \n",
       "2  0060973129                               Decision in Normandy   \n",
       "3  0374157065  Flu: The Story of the Great Influenza Pandemic...   \n",
       "4  0393045218                             The Mummies of Urumchi   \n",
       "\n",
       "            Book-Author Year-Of-Publication                   Publisher  \\\n",
       "0    Mark P. O. Morford                2002     Oxford University Press   \n",
       "1  Richard Bruce Wright                2001       HarperFlamingo Canada   \n",
       "2          Carlo D'Este                1991             HarperPerennial   \n",
       "3      Gina Bari Kolata                1999        Farrar Straus Giroux   \n",
       "4       E. J. W. Barber                1999  W. W. Norton &amp; Company   \n",
       "\n",
       "                                         Image-URL-S  \\\n",
       "0  http://images.amazon.com/images/P/0195153448.0...   \n",
       "1  http://images.amazon.com/images/P/0002005018.0...   \n",
       "2  http://images.amazon.com/images/P/0060973129.0...   \n",
       "3  http://images.amazon.com/images/P/0374157065.0...   \n",
       "4  http://images.amazon.com/images/P/0393045218.0...   \n",
       "\n",
       "                                         Image-URL-M  \\\n",
       "0  http://images.amazon.com/images/P/0195153448.0...   \n",
       "1  http://images.amazon.com/images/P/0002005018.0...   \n",
       "2  http://images.amazon.com/images/P/0060973129.0...   \n",
       "3  http://images.amazon.com/images/P/0374157065.0...   \n",
       "4  http://images.amazon.com/images/P/0393045218.0...   \n",
       "\n",
       "                                         Image-URL-L  \n",
       "0  http://images.amazon.com/images/P/0195153448.0...  \n",
       "1  http://images.amazon.com/images/P/0002005018.0...  \n",
       "2  http://images.amazon.com/images/P/0060973129.0...  \n",
       "3  http://images.amazon.com/images/P/0374157065.0...  \n",
       "4  http://images.amazon.com/images/P/0393045218.0...  "
      ]
     },
     "execution_count": 37,
     "metadata": {},
     "output_type": "execute_result"
    }
   ],
   "source": [
    "books.head()"
   ]
  },
  {
   "cell_type": "code",
   "execution_count": 38,
   "id": "1b09bb79",
   "metadata": {},
   "outputs": [
    {
     "data": {
      "text/html": [
       "<div>\n",
       "<style scoped>\n",
       "    .dataframe tbody tr th:only-of-type {\n",
       "        vertical-align: middle;\n",
       "    }\n",
       "\n",
       "    .dataframe tbody tr th {\n",
       "        vertical-align: top;\n",
       "    }\n",
       "\n",
       "    .dataframe thead th {\n",
       "        text-align: right;\n",
       "    }\n",
       "</style>\n",
       "<table border=\"1\" class=\"dataframe\">\n",
       "  <thead>\n",
       "    <tr style=\"text-align: right;\">\n",
       "      <th></th>\n",
       "      <th>User-ID</th>\n",
       "      <th>Location</th>\n",
       "      <th>Age</th>\n",
       "    </tr>\n",
       "  </thead>\n",
       "  <tbody>\n",
       "    <tr>\n",
       "      <th>0</th>\n",
       "      <td>1</td>\n",
       "      <td>nyc, new york, usa</td>\n",
       "      <td>NaN</td>\n",
       "    </tr>\n",
       "    <tr>\n",
       "      <th>1</th>\n",
       "      <td>2</td>\n",
       "      <td>stockton, california, usa</td>\n",
       "      <td>18.0</td>\n",
       "    </tr>\n",
       "    <tr>\n",
       "      <th>2</th>\n",
       "      <td>3</td>\n",
       "      <td>moscow, yukon territory, russia</td>\n",
       "      <td>NaN</td>\n",
       "    </tr>\n",
       "    <tr>\n",
       "      <th>3</th>\n",
       "      <td>4</td>\n",
       "      <td>porto, v.n.gaia, portugal</td>\n",
       "      <td>17.0</td>\n",
       "    </tr>\n",
       "    <tr>\n",
       "      <th>4</th>\n",
       "      <td>5</td>\n",
       "      <td>farnborough, hants, united kingdom</td>\n",
       "      <td>NaN</td>\n",
       "    </tr>\n",
       "  </tbody>\n",
       "</table>\n",
       "</div>"
      ],
      "text/plain": [
       "   User-ID                            Location   Age\n",
       "0        1                  nyc, new york, usa   NaN\n",
       "1        2           stockton, california, usa  18.0\n",
       "2        3     moscow, yukon territory, russia   NaN\n",
       "3        4           porto, v.n.gaia, portugal  17.0\n",
       "4        5  farnborough, hants, united kingdom   NaN"
      ]
     },
     "execution_count": 38,
     "metadata": {},
     "output_type": "execute_result"
    }
   ],
   "source": [
    "users.head()"
   ]
  },
  {
   "cell_type": "code",
   "execution_count": 39,
   "id": "dace880a",
   "metadata": {},
   "outputs": [
    {
     "data": {
      "text/html": [
       "<div>\n",
       "<style scoped>\n",
       "    .dataframe tbody tr th:only-of-type {\n",
       "        vertical-align: middle;\n",
       "    }\n",
       "\n",
       "    .dataframe tbody tr th {\n",
       "        vertical-align: top;\n",
       "    }\n",
       "\n",
       "    .dataframe thead th {\n",
       "        text-align: right;\n",
       "    }\n",
       "</style>\n",
       "<table border=\"1\" class=\"dataframe\">\n",
       "  <thead>\n",
       "    <tr style=\"text-align: right;\">\n",
       "      <th></th>\n",
       "      <th>User-ID</th>\n",
       "      <th>ISBN</th>\n",
       "      <th>Book-Rating</th>\n",
       "    </tr>\n",
       "  </thead>\n",
       "  <tbody>\n",
       "    <tr>\n",
       "      <th>0</th>\n",
       "      <td>276725</td>\n",
       "      <td>034545104X</td>\n",
       "      <td>0</td>\n",
       "    </tr>\n",
       "    <tr>\n",
       "      <th>1</th>\n",
       "      <td>276726</td>\n",
       "      <td>0155061224</td>\n",
       "      <td>5</td>\n",
       "    </tr>\n",
       "    <tr>\n",
       "      <th>2</th>\n",
       "      <td>276727</td>\n",
       "      <td>0446520802</td>\n",
       "      <td>0</td>\n",
       "    </tr>\n",
       "    <tr>\n",
       "      <th>3</th>\n",
       "      <td>276729</td>\n",
       "      <td>052165615X</td>\n",
       "      <td>3</td>\n",
       "    </tr>\n",
       "    <tr>\n",
       "      <th>4</th>\n",
       "      <td>276729</td>\n",
       "      <td>0521795028</td>\n",
       "      <td>6</td>\n",
       "    </tr>\n",
       "  </tbody>\n",
       "</table>\n",
       "</div>"
      ],
      "text/plain": [
       "   User-ID        ISBN  Book-Rating\n",
       "0   276725  034545104X            0\n",
       "1   276726  0155061224            5\n",
       "2   276727  0446520802            0\n",
       "3   276729  052165615X            3\n",
       "4   276729  0521795028            6"
      ]
     },
     "execution_count": 39,
     "metadata": {},
     "output_type": "execute_result"
    }
   ],
   "source": [
    "ratings.head()"
   ]
  },
  {
   "cell_type": "markdown",
   "id": "a5d5e8d3",
   "metadata": {},
   "source": [
    "#### Checking shape of all dataframes"
   ]
  },
  {
   "cell_type": "code",
   "execution_count": 40,
   "id": "0c5b75bd",
   "metadata": {},
   "outputs": [
    {
     "data": {
      "text/plain": [
       "(271360, 8)"
      ]
     },
     "execution_count": 40,
     "metadata": {},
     "output_type": "execute_result"
    }
   ],
   "source": [
    "books.shape"
   ]
  },
  {
   "cell_type": "code",
   "execution_count": 41,
   "id": "916f6cf6",
   "metadata": {},
   "outputs": [
    {
     "data": {
      "text/plain": [
       "(278858, 3)"
      ]
     },
     "execution_count": 41,
     "metadata": {},
     "output_type": "execute_result"
    }
   ],
   "source": [
    "users.shape"
   ]
  },
  {
   "cell_type": "code",
   "execution_count": 42,
   "id": "aab7d251",
   "metadata": {},
   "outputs": [
    {
     "data": {
      "text/plain": [
       "(1149780, 3)"
      ]
     },
     "execution_count": 42,
     "metadata": {},
     "output_type": "execute_result"
    }
   ],
   "source": [
    "ratings.shape"
   ]
  },
  {
   "cell_type": "markdown",
   "id": "b2ef53b8",
   "metadata": {},
   "source": [
    "#### Checking for null values"
   ]
  },
  {
   "cell_type": "code",
   "execution_count": 49,
   "id": "f999c085",
   "metadata": {},
   "outputs": [
    {
     "data": {
      "text/plain": [
       "ISBN                   0\n",
       "Book-Title             0\n",
       "Book-Author            1\n",
       "Year-Of-Publication    0\n",
       "Publisher              2\n",
       "Image-URL-S            0\n",
       "Image-URL-M            0\n",
       "Image-URL-L            3\n",
       "dtype: int64"
      ]
     },
     "execution_count": 49,
     "metadata": {},
     "output_type": "execute_result"
    }
   ],
   "source": [
    "books.isnull().sum()"
   ]
  },
  {
   "cell_type": "code",
   "execution_count": 50,
   "id": "e941c843",
   "metadata": {},
   "outputs": [
    {
     "data": {
      "text/plain": [
       "User-ID          0\n",
       "Location         0\n",
       "Age         110762\n",
       "dtype: int64"
      ]
     },
     "execution_count": 50,
     "metadata": {},
     "output_type": "execute_result"
    }
   ],
   "source": [
    "users.isnull().sum()"
   ]
  },
  {
   "cell_type": "code",
   "execution_count": 51,
   "id": "25d0fda5",
   "metadata": {},
   "outputs": [
    {
     "data": {
      "text/plain": [
       "User-ID        0\n",
       "ISBN           0\n",
       "Book-Rating    0\n",
       "dtype: int64"
      ]
     },
     "execution_count": 51,
     "metadata": {},
     "output_type": "execute_result"
    }
   ],
   "source": [
    "ratings.isnull().sum()"
   ]
  },
  {
   "cell_type": "markdown",
   "id": "134e5a2b",
   "metadata": {},
   "source": [
    "#### Checking for duplicates"
   ]
  },
  {
   "cell_type": "code",
   "execution_count": 52,
   "id": "0b541151",
   "metadata": {},
   "outputs": [
    {
     "data": {
      "text/plain": [
       "0"
      ]
     },
     "execution_count": 52,
     "metadata": {},
     "output_type": "execute_result"
    }
   ],
   "source": [
    "books.duplicated().sum()"
   ]
  },
  {
   "cell_type": "code",
   "execution_count": 53,
   "id": "8bd190a5",
   "metadata": {},
   "outputs": [
    {
     "data": {
      "text/plain": [
       "0"
      ]
     },
     "execution_count": 53,
     "metadata": {},
     "output_type": "execute_result"
    }
   ],
   "source": [
    "users.duplicated().sum()"
   ]
  },
  {
   "cell_type": "code",
   "execution_count": 54,
   "id": "e3d17328",
   "metadata": {},
   "outputs": [
    {
     "data": {
      "text/plain": [
       "0"
      ]
     },
     "execution_count": 54,
     "metadata": {},
     "output_type": "execute_result"
    }
   ],
   "source": [
    "users.duplicated().sum()"
   ]
  },
  {
   "cell_type": "markdown",
   "id": "68e8ad84",
   "metadata": {},
   "source": [
    "#### Locating null values in books"
   ]
  },
  {
   "cell_type": "code",
   "execution_count": 57,
   "id": "af5f1b69",
   "metadata": {},
   "outputs": [],
   "source": [
    "def get_null_indexes(obj,val):\n",
    "    pos = []\n",
    "    result = obj.isin([val])\n",
    "    series = result.any()\n",
    "    col_names = list(series[series == True].index)\n",
    "    \n",
    "    for col in col_names:\n",
    "        rows = list(result[col][result[col] == True].index)\n",
    "        for row in rows:\n",
    "            pos.append((row,col))\n",
    "    return pos"
   ]
  },
  {
   "cell_type": "code",
   "execution_count": 58,
   "id": "59963c33",
   "metadata": {},
   "outputs": [
    {
     "name": "stdout",
     "output_type": "stream",
     "text": [
      "Index positions of NaN in books : \n",
      "(187689, 'Book-Author')\n",
      "(128890, 'Publisher')\n",
      "(129037, 'Publisher')\n",
      "(209538, 'Image-URL-L')\n",
      "(220731, 'Image-URL-L')\n",
      "(221678, 'Image-URL-L')\n"
     ]
    }
   ],
   "source": [
    "pos = get_null_indexes(books,np.nan)\n",
    "print('Index positions of NaN in books : ')\n",
    "for i in range(len(pos)):\n",
    "    print(pos[i])"
   ]
  },
  {
   "cell_type": "markdown",
   "id": "6a156474",
   "metadata": {},
   "source": [
    "#### Checking obtained null values indexes"
   ]
  },
  {
   "cell_type": "code",
   "execution_count": 59,
   "id": "8abed9db",
   "metadata": {},
   "outputs": [
    {
     "data": {
      "text/plain": [
       "ISBN                                                          9627982032\n",
       "Book-Title             The Credit Suisse Guide to Managing Your Perso...\n",
       "Book-Author                                                          NaN\n",
       "Year-Of-Publication                                                 1995\n",
       "Publisher                                 Edinburgh Financial Publishing\n",
       "Image-URL-S            http://images.amazon.com/images/P/9627982032.0...\n",
       "Image-URL-M            http://images.amazon.com/images/P/9627982032.0...\n",
       "Image-URL-L            http://images.amazon.com/images/P/9627982032.0...\n",
       "Name: 187689, dtype: object"
      ]
     },
     "execution_count": 59,
     "metadata": {},
     "output_type": "execute_result"
    }
   ],
   "source": [
    "books.iloc[187689]"
   ]
  },
  {
   "cell_type": "code",
   "execution_count": 60,
   "id": "8ff0f2da",
   "metadata": {},
   "outputs": [
    {
     "data": {
      "text/plain": [
       "ISBN                                                          193169656X\n",
       "Book-Title                                                   Tyrant Moon\n",
       "Book-Author                                              Elaine Corvidae\n",
       "Year-Of-Publication                                                 2002\n",
       "Publisher                                                            NaN\n",
       "Image-URL-S            http://images.amazon.com/images/P/193169656X.0...\n",
       "Image-URL-M            http://images.amazon.com/images/P/193169656X.0...\n",
       "Image-URL-L            http://images.amazon.com/images/P/193169656X.0...\n",
       "Name: 128890, dtype: object"
      ]
     },
     "execution_count": 60,
     "metadata": {},
     "output_type": "execute_result"
    }
   ],
   "source": [
    "books.iloc[128890]"
   ]
  },
  {
   "cell_type": "code",
   "execution_count": 61,
   "id": "a203b1f3",
   "metadata": {},
   "outputs": [
    {
     "data": {
      "text/plain": [
       "ISBN                                                          1931696993\n",
       "Book-Title                                               Finders Keepers\n",
       "Book-Author                                              Linnea Sinclair\n",
       "Year-Of-Publication                                                 2001\n",
       "Publisher                                                            NaN\n",
       "Image-URL-S            http://images.amazon.com/images/P/1931696993.0...\n",
       "Image-URL-M            http://images.amazon.com/images/P/1931696993.0...\n",
       "Image-URL-L            http://images.amazon.com/images/P/1931696993.0...\n",
       "Name: 129037, dtype: object"
      ]
     },
     "execution_count": 61,
     "metadata": {},
     "output_type": "execute_result"
    }
   ],
   "source": [
    "books.iloc[129037]"
   ]
  },
  {
   "cell_type": "code",
   "execution_count": 62,
   "id": "78273442",
   "metadata": {},
   "outputs": [
    {
     "data": {
      "text/plain": [
       "ISBN                                                          078946697X\n",
       "Book-Title             DK Readers: Creating the X-Men, How It All Beg...\n",
       "Book-Author                                                         2000\n",
       "Year-Of-Publication                                    DK Publishing Inc\n",
       "Publisher              http://images.amazon.com/images/P/078946697X.0...\n",
       "Image-URL-S            http://images.amazon.com/images/P/078946697X.0...\n",
       "Image-URL-M            http://images.amazon.com/images/P/078946697X.0...\n",
       "Image-URL-L                                                          NaN\n",
       "Name: 209538, dtype: object"
      ]
     },
     "execution_count": 62,
     "metadata": {},
     "output_type": "execute_result"
    }
   ],
   "source": [
    "books.iloc[209538]"
   ]
  },
  {
   "cell_type": "code",
   "execution_count": 63,
   "id": "904c9197",
   "metadata": {},
   "outputs": [
    {
     "data": {
      "text/plain": [
       "ISBN                                                          2070426769\n",
       "Book-Title             Peuple du ciel, suivi de 'Les Bergers\\\";Jean-M...\n",
       "Book-Author                                                         2003\n",
       "Year-Of-Publication                                            Gallimard\n",
       "Publisher              http://images.amazon.com/images/P/2070426769.0...\n",
       "Image-URL-S            http://images.amazon.com/images/P/2070426769.0...\n",
       "Image-URL-M            http://images.amazon.com/images/P/2070426769.0...\n",
       "Image-URL-L                                                          NaN\n",
       "Name: 220731, dtype: object"
      ]
     },
     "execution_count": 63,
     "metadata": {},
     "output_type": "execute_result"
    }
   ],
   "source": [
    "books.iloc[220731]"
   ]
  },
  {
   "cell_type": "code",
   "execution_count": 64,
   "id": "6af374fd",
   "metadata": {},
   "outputs": [
    {
     "data": {
      "text/plain": [
       "ISBN                                                          0789466953\n",
       "Book-Title             DK Readers: Creating the X-Men, How Comic Book...\n",
       "Book-Author                                                         2000\n",
       "Year-Of-Publication                                    DK Publishing Inc\n",
       "Publisher              http://images.amazon.com/images/P/0789466953.0...\n",
       "Image-URL-S            http://images.amazon.com/images/P/0789466953.0...\n",
       "Image-URL-M            http://images.amazon.com/images/P/0789466953.0...\n",
       "Image-URL-L                                                          NaN\n",
       "Name: 221678, dtype: object"
      ]
     },
     "execution_count": 64,
     "metadata": {},
     "output_type": "execute_result"
    }
   ],
   "source": [
    "books.iloc[221678]"
   ]
  },
  {
   "cell_type": "markdown",
   "id": "6d58601c",
   "metadata": {},
   "source": [
    "#### Adding values to missing values of book author and publisher"
   ]
  },
  {
   "cell_type": "code",
   "execution_count": 65,
   "id": "5665892e",
   "metadata": {},
   "outputs": [],
   "source": [
    "books.at[187689, 'Book-Author'] = 'Larissa Anne Downes, Editor'\n",
    "books.at[128890, 'Publisher'] = 'CreateSpace Independent Publishing Platform'\n",
    "books.at[129037, 'Publisher'] = 'NovelBooks Inc'"
   ]
  },
  {
   "cell_type": "markdown",
   "id": "8ed10904",
   "metadata": {},
   "source": [
    "#### Shifting and correcting missing values of remaining 3 indexes"
   ]
  },
  {
   "cell_type": "code",
   "execution_count": 67,
   "id": "d27d07b1",
   "metadata": {},
   "outputs": [
    {
     "data": {
      "text/plain": [
       "ISBN                                                          078946697X\n",
       "Book-Title             DK Readers: The Story of the X-Men, How It All...\n",
       "Book-Author                                           Michael Teitelbaum\n",
       "Year-Of-Publication                                                 2000\n",
       "Publisher                                              DK Publishing Inc\n",
       "Image-URL-S            http://images.amazon.com/images/P/078946697X.0...\n",
       "Image-URL-M            http://images.amazon.com/images/P/078946697X.0...\n",
       "Image-URL-L            http://images.amazon.com/images/P/078946697X.0...\n",
       "Name: 209538, dtype: object"
      ]
     },
     "execution_count": 67,
     "metadata": {},
     "output_type": "execute_result"
    }
   ],
   "source": [
    "books.iloc[209538] = books.iloc[209538].shift()\n",
    "books.at[209538, 'ISBN'] = '078946697X'\n",
    "books.at[209538, 'Book-Title'] = 'DK Readers: The Story of the X-Men, How It All Began (Level 4: Proficient Readers)'\n",
    "books.at[209538, 'Book-Author'] = 'Michael Teitelbaum'\n",
    "books.at[209538, 'Publisher'] = 'DK Publishing Inc'\n",
    "books.iloc[209538]"
   ]
  },
  {
   "cell_type": "code",
   "execution_count": 69,
   "id": "9961c319",
   "metadata": {},
   "outputs": [
    {
     "data": {
      "text/plain": [
       "ISBN                                                          2070426769\n",
       "Book-Title                           Peuple du ciel suivi de les Bergers\n",
       "Book-Author                                           Jean-Marie Gustave\n",
       "Year-Of-Publication                                                 2003\n",
       "Publisher                                                      Gallimard\n",
       "Image-URL-S            http://images.amazon.com/images/P/2070426769.0...\n",
       "Image-URL-M            http://images.amazon.com/images/P/2070426769.0...\n",
       "Image-URL-L            http://images.amazon.com/images/P/2070426769.0...\n",
       "Name: 220731, dtype: object"
      ]
     },
     "execution_count": 69,
     "metadata": {},
     "output_type": "execute_result"
    }
   ],
   "source": [
    "books.iloc[220731] = books.iloc[220731].shift()\n",
    "books.at[220731, 'ISBN'] = '2070426769'\n",
    "books.at[220731, 'Book-Title'] = 'Peuple du ciel suivi de les Bergers'\n",
    "books.at[220731, 'Book-Author'] = 'Jean-Marie Gustave'\n",
    "books.at[220731, 'Publisher'] = 'Gallimard'\n",
    "books.iloc[220731]"
   ]
  },
  {
   "cell_type": "code",
   "execution_count": 70,
   "id": "d66a67d0",
   "metadata": {
    "scrolled": true
   },
   "outputs": [
    {
     "data": {
      "text/plain": [
       "ISBN                                                          2070426769\n",
       "Book-Title             DK Readers: Creating the X-Men, How Comic Book...\n",
       "Book-Author                                                James Buckley\n",
       "Year-Of-Publication                                                 2000\n",
       "Publisher                                              DK Publishing Inc\n",
       "Image-URL-S            http://images.amazon.com/images/P/0789466953.0...\n",
       "Image-URL-M            http://images.amazon.com/images/P/0789466953.0...\n",
       "Image-URL-L            http://images.amazon.com/images/P/0789466953.0...\n",
       "Name: 221678, dtype: object"
      ]
     },
     "execution_count": 70,
     "metadata": {},
     "output_type": "execute_result"
    }
   ],
   "source": [
    "books.iloc[221678] = books.iloc[221678].shift()\n",
    "books.at[221678, 'ISBN'] = '2070426769'\n",
    "books.at[221678, 'Book-Title'] = 'DK Readers: Creating the X-Men, How Comic Books Come to Life (Level 4: Proficient Readers)'\n",
    "books.at[221678, 'Book-Author'] = 'James Buckley'\n",
    "books.at[221678, 'Publisher'] = 'DK Publishing Inc'\n",
    "books.iloc[221678]"
   ]
  },
  {
   "cell_type": "markdown",
   "id": "402ff516",
   "metadata": {},
   "source": [
    "#### Finding year errors and handling them"
   ]
  },
  {
   "cell_type": "code",
   "execution_count": 77,
   "id": "dcc4dd23",
   "metadata": {},
   "outputs": [
    {
     "name": "stdout",
     "output_type": "stream",
     "text": [
      "<class 'pandas.core.frame.DataFrame'>\n",
      "RangeIndex: 271360 entries, 0 to 271359\n",
      "Data columns (total 8 columns):\n",
      " #   Column               Non-Null Count   Dtype \n",
      "---  ------               --------------   ----- \n",
      " 0   ISBN                 271360 non-null  object\n",
      " 1   Book-Title           271360 non-null  object\n",
      " 2   Book-Author          271360 non-null  object\n",
      " 3   Year-Of-Publication  271360 non-null  object\n",
      " 4   Publisher            271360 non-null  object\n",
      " 5   Image-URL-S          271360 non-null  object\n",
      " 6   Image-URL-M          271360 non-null  object\n",
      " 7   Image-URL-L          271360 non-null  object\n",
      "dtypes: object(8)\n",
      "memory usage: 16.6+ MB\n"
     ]
    }
   ],
   "source": [
    "books.info()"
   ]
  },
  {
   "cell_type": "code",
   "execution_count": 104,
   "id": "fad0e2e3",
   "metadata": {},
   "outputs": [
    {
     "name": "stdout",
     "output_type": "stream",
     "text": [
      "['0', '1376', '1378', '1806', '1897', '1900', '1901', '1902', '1904', '1906', '1908', '1909', '1910', '1911', '1914', '1917', '1919', '1920', '1921', '1922', '1923', '1924', '1925', '1926', '1927', '1928', '1929', '1930', '1931', '1932', '1933', '1934', '1935', '1936', '1937', '1938', '1939', '1940', '1941', '1942', '1943', '1944', '1945', '1946', '1947', '1948', '1949', '1950', '1951', '1952', '1953', '1954', '1955', '1956', '1957', '1958', '1959', '1960', '1961', '1962', '1963', '1964', '1965', '1966', '1967', '1968', '1969', '1970', '1971', '1972', '1973', '1974', '1975', '1976', '1977', '1978', '1979', '1980', '1981', '1982', '1983', '1984', '1985', '1986', '1987', '1988', '1989', '1990', '1991', '1992', '1993', '1994', '1995', '1996', '1997', '1998', '1999', '2000', '2001', '2002', '2003', '2004', '2005', '2006', '2008', '2010', '2011', '2012', '2020', '2021', '2024', '2026', '2030', '2037', '2038', '2050']\n"
     ]
    }
   ],
   "source": [
    "print(sorted(books['Year-Of-Publication'].unique()))"
   ]
  },
  {
   "cell_type": "code",
   "execution_count": 98,
   "id": "9b8e17c4",
   "metadata": {},
   "outputs": [],
   "source": [
    "year_zero_positions = get_null_indexes(books, '0')"
   ]
  },
  {
   "cell_type": "code",
   "execution_count": 99,
   "id": "562beed1",
   "metadata": {},
   "outputs": [
    {
     "name": "stdout",
     "output_type": "stream",
     "text": [
      "Number of records with zero year :  4618\n"
     ]
    }
   ],
   "source": [
    "print('Number of records with zero year : ',len(year_zero_positions))"
   ]
  },
  {
   "cell_type": "code",
   "execution_count": 100,
   "id": "dde68638",
   "metadata": {},
   "outputs": [],
   "source": [
    "year_2050_positions = get_null_indexes(books, '2050')"
   ]
  },
  {
   "cell_type": "code",
   "execution_count": 102,
   "id": "37f25927",
   "metadata": {},
   "outputs": [
    {
     "name": "stdout",
     "output_type": "stream",
     "text": [
      "Number of records with 2050 year :  2\n"
     ]
    }
   ],
   "source": [
    "print('Number of records with 2050 year : ',len(year_2050_positions))"
   ]
  },
  {
   "cell_type": "code",
   "execution_count": 105,
   "id": "60460a8c",
   "metadata": {},
   "outputs": [],
   "source": [
    "year_2038_positions = get_null_indexes(books, '2038')"
   ]
  },
  {
   "cell_type": "code",
   "execution_count": 106,
   "id": "4f998dda",
   "metadata": {},
   "outputs": [
    {
     "name": "stdout",
     "output_type": "stream",
     "text": [
      "Number of records with 2038 year :  1\n"
     ]
    }
   ],
   "source": [
    "print('Number of records with 2038 year : ',len(year_2038_positions))"
   ]
  },
  {
   "cell_type": "code",
   "execution_count": 107,
   "id": "f3498d15",
   "metadata": {},
   "outputs": [],
   "source": [
    "year_2037_positions = get_null_indexes(books, '2037')"
   ]
  },
  {
   "cell_type": "code",
   "execution_count": 108,
   "id": "e9820f58",
   "metadata": {},
   "outputs": [
    {
     "name": "stdout",
     "output_type": "stream",
     "text": [
      "Number of records with 2037 year :  1\n"
     ]
    }
   ],
   "source": [
    "print('Number of records with 2037 year : ',len(year_2037_positions))"
   ]
  },
  {
   "cell_type": "code",
   "execution_count": 111,
   "id": "b01282a5",
   "metadata": {},
   "outputs": [],
   "source": [
    "year_2030_positions = get_null_indexes(books, '2030')"
   ]
  },
  {
   "cell_type": "code",
   "execution_count": 112,
   "id": "72ecbc83",
   "metadata": {},
   "outputs": [
    {
     "name": "stdout",
     "output_type": "stream",
     "text": [
      "Number of records with 2030 year :  7\n"
     ]
    }
   ],
   "source": [
    "print('Number of records with 2030 year : ',len(year_2030_positions))"
   ]
  },
  {
   "cell_type": "code",
   "execution_count": 113,
   "id": "4558ba61",
   "metadata": {},
   "outputs": [],
   "source": [
    "year_2026_positions = get_null_indexes(books, '2026')"
   ]
  },
  {
   "cell_type": "code",
   "execution_count": 114,
   "id": "4701f8dd",
   "metadata": {},
   "outputs": [
    {
     "name": "stdout",
     "output_type": "stream",
     "text": [
      "Number of records with 2026 year :  1\n"
     ]
    }
   ],
   "source": [
    "print('Number of records with 2026 year : ',len(year_2026_positions))"
   ]
  },
  {
   "cell_type": "code",
   "execution_count": 109,
   "id": "819dbf3f",
   "metadata": {},
   "outputs": [],
   "source": [
    "year_2024_positions = get_null_indexes(books, '2024')"
   ]
  },
  {
   "cell_type": "code",
   "execution_count": 110,
   "id": "f089cd81",
   "metadata": {},
   "outputs": [
    {
     "name": "stdout",
     "output_type": "stream",
     "text": [
      "Number of records with 2024 year :  2\n"
     ]
    }
   ],
   "source": [
    "print('Number of records with 2024 year : ',len(year_2024_positions))"
   ]
  },
  {
   "cell_type": "code",
   "execution_count": 115,
   "id": "4a5584aa",
   "metadata": {},
   "outputs": [],
   "source": [
    "total_year_errors = year_2024_positions + year_2026_positions + year_2030_positions + year_2037_positions + year_2038_positions + year_2050_positions + year_zero_positions"
   ]
  },
  {
   "cell_type": "code",
   "execution_count": 118,
   "id": "4d89b791",
   "metadata": {},
   "outputs": [
    {
     "name": "stdout",
     "output_type": "stream",
     "text": [
      "Number of records with year error  :  4632\n"
     ]
    }
   ],
   "source": [
    "print('Number of records with year error  : ',len(total_year_errors))"
   ]
  },
  {
   "cell_type": "code",
   "execution_count": 119,
   "id": "209fc41b",
   "metadata": {},
   "outputs": [],
   "source": [
    "# Drop all entries with incorrect Year-of-Publication dates\n",
    "books = books[books['Year-Of-Publication'] != '0']\n",
    "books = books[books['Year-Of-Publication'] != '2050']\n",
    "books = books[books['Year-Of-Publication'] != '2038']\n",
    "books = books[books['Year-Of-Publication'] != '2037']\n",
    "books = books[books['Year-Of-Publication'] != '2030']\n",
    "books = books[books['Year-Of-Publication'] != '2026']\n",
    "books = books[books['Year-Of-Publication'] != '2024']"
   ]
  },
  {
   "cell_type": "code",
   "execution_count": 120,
   "id": "649267a5",
   "metadata": {},
   "outputs": [],
   "source": [
    "books['Year-Of-Publication'] = books['Year-Of-Publication'].astype('int32')"
   ]
  },
  {
   "cell_type": "code",
   "execution_count": 121,
   "id": "bfa83fd9",
   "metadata": {},
   "outputs": [],
   "source": [
    "books_without_url = books.drop(books.iloc[:,5:8],axis=1)"
   ]
  },
  {
   "cell_type": "code",
   "execution_count": 122,
   "id": "e48ba6bc",
   "metadata": {},
   "outputs": [
    {
     "data": {
      "text/html": [
       "<div>\n",
       "<style scoped>\n",
       "    .dataframe tbody tr th:only-of-type {\n",
       "        vertical-align: middle;\n",
       "    }\n",
       "\n",
       "    .dataframe tbody tr th {\n",
       "        vertical-align: top;\n",
       "    }\n",
       "\n",
       "    .dataframe thead th {\n",
       "        text-align: right;\n",
       "    }\n",
       "</style>\n",
       "<table border=\"1\" class=\"dataframe\">\n",
       "  <thead>\n",
       "    <tr style=\"text-align: right;\">\n",
       "      <th></th>\n",
       "      <th>ISBN</th>\n",
       "      <th>Book-Title</th>\n",
       "      <th>Book-Author</th>\n",
       "      <th>Year-Of-Publication</th>\n",
       "      <th>Publisher</th>\n",
       "    </tr>\n",
       "  </thead>\n",
       "  <tbody>\n",
       "    <tr>\n",
       "      <th>0</th>\n",
       "      <td>0195153448</td>\n",
       "      <td>Classical Mythology</td>\n",
       "      <td>Mark P. O. Morford</td>\n",
       "      <td>2002</td>\n",
       "      <td>Oxford University Press</td>\n",
       "    </tr>\n",
       "    <tr>\n",
       "      <th>1</th>\n",
       "      <td>0002005018</td>\n",
       "      <td>Clara Callan</td>\n",
       "      <td>Richard Bruce Wright</td>\n",
       "      <td>2001</td>\n",
       "      <td>HarperFlamingo Canada</td>\n",
       "    </tr>\n",
       "    <tr>\n",
       "      <th>2</th>\n",
       "      <td>0060973129</td>\n",
       "      <td>Decision in Normandy</td>\n",
       "      <td>Carlo D'Este</td>\n",
       "      <td>1991</td>\n",
       "      <td>HarperPerennial</td>\n",
       "    </tr>\n",
       "    <tr>\n",
       "      <th>3</th>\n",
       "      <td>0374157065</td>\n",
       "      <td>Flu: The Story of the Great Influenza Pandemic...</td>\n",
       "      <td>Gina Bari Kolata</td>\n",
       "      <td>1999</td>\n",
       "      <td>Farrar Straus Giroux</td>\n",
       "    </tr>\n",
       "    <tr>\n",
       "      <th>4</th>\n",
       "      <td>0393045218</td>\n",
       "      <td>The Mummies of Urumchi</td>\n",
       "      <td>E. J. W. Barber</td>\n",
       "      <td>1999</td>\n",
       "      <td>W. W. Norton &amp;amp; Company</td>\n",
       "    </tr>\n",
       "  </tbody>\n",
       "</table>\n",
       "</div>"
      ],
      "text/plain": [
       "         ISBN                                         Book-Title  \\\n",
       "0  0195153448                                Classical Mythology   \n",
       "1  0002005018                                       Clara Callan   \n",
       "2  0060973129                               Decision in Normandy   \n",
       "3  0374157065  Flu: The Story of the Great Influenza Pandemic...   \n",
       "4  0393045218                             The Mummies of Urumchi   \n",
       "\n",
       "            Book-Author  Year-Of-Publication                   Publisher  \n",
       "0    Mark P. O. Morford                 2002     Oxford University Press  \n",
       "1  Richard Bruce Wright                 2001       HarperFlamingo Canada  \n",
       "2          Carlo D'Este                 1991             HarperPerennial  \n",
       "3      Gina Bari Kolata                 1999        Farrar Straus Giroux  \n",
       "4       E. J. W. Barber                 1999  W. W. Norton &amp; Company  "
      ]
     },
     "execution_count": 122,
     "metadata": {},
     "output_type": "execute_result"
    }
   ],
   "source": [
    "books_without_url.head()"
   ]
  },
  {
   "cell_type": "code",
   "execution_count": 123,
   "id": "d3ee1d9b",
   "metadata": {},
   "outputs": [],
   "source": [
    "books.to_csv('books_with_url.csv')\n",
    "books_without_url.to_csv('books_without_url')"
   ]
  },
  {
   "cell_type": "markdown",
   "id": "d5c5c69e",
   "metadata": {},
   "source": [
    "### Users dataframe"
   ]
  },
  {
   "cell_type": "code",
   "execution_count": 125,
   "id": "d511586a",
   "metadata": {},
   "outputs": [
    {
     "name": "stdout",
     "output_type": "stream",
     "text": [
      "[nan, 0.0, 1.0, 2.0, 3.0, 4.0, 5.0, 6.0, 7.0, 8.0, 9.0, 10.0, 11.0, 12.0, 13.0, 14.0, 15.0, 16.0, 17.0, 18.0, 19.0, 20.0, 21.0, 22.0, 23.0, 24.0, 25.0, 26.0, 27.0, 28.0, 29.0, 30.0, 31.0, 32.0, 33.0, 34.0, 35.0, 36.0, 37.0, 38.0, 39.0, 40.0, 41.0, 42.0, 43.0, 44.0, 45.0, 46.0, 47.0, 48.0, 49.0, 50.0, 51.0, 52.0, 53.0, 54.0, 55.0, 56.0, 57.0, 58.0, 59.0, 60.0, 61.0, 62.0, 63.0, 64.0, 65.0, 66.0, 67.0, 68.0, 69.0, 70.0, 71.0, 72.0, 73.0, 74.0, 75.0, 76.0, 77.0, 78.0, 79.0, 80.0, 81.0, 82.0, 83.0, 84.0, 85.0, 86.0, 87.0, 88.0, 89.0, 90.0, 91.0, 92.0, 93.0, 94.0, 95.0, 96.0, 97.0, 98.0, 99.0, 100.0, 101.0, 102.0, 103.0, 104.0, 105.0, 106.0, 107.0, 108.0, 109.0, 110.0, 111.0, 113.0, 114.0, 115.0, 116.0, 118.0, 119.0, 123.0, 124.0, 127.0, 128.0, 132.0, 133.0, 136.0, 137.0, 138.0, 140.0, 141.0, 143.0, 146.0, 147.0, 148.0, 151.0, 152.0, 156.0, 157.0, 159.0, 162.0, 168.0, 172.0, 175.0, 183.0, 186.0, 189.0, 199.0, 200.0, 201.0, 204.0, 207.0, 208.0, 209.0, 210.0, 212.0, 219.0, 220.0, 223.0, 226.0, 228.0, 229.0, 230.0, 231.0, 237.0, 239.0, 244.0]\n"
     ]
    }
   ],
   "source": [
    "print(sorted(users['Age'].unique()))"
   ]
  },
  {
   "cell_type": "code",
   "execution_count": 126,
   "id": "aef7341b",
   "metadata": {},
   "outputs": [
    {
     "data": {
      "text/plain": [
       "278858"
      ]
     },
     "execution_count": 126,
     "metadata": {},
     "output_type": "execute_result"
    }
   ],
   "source": [
    "len(users)"
   ]
  },
  {
   "cell_type": "code",
   "execution_count": 127,
   "id": "34822c90",
   "metadata": {},
   "outputs": [
    {
     "data": {
      "text/plain": [
       "110762"
      ]
     },
     "execution_count": 127,
     "metadata": {},
     "output_type": "execute_result"
    }
   ],
   "source": [
    "users['Age'].isna().sum()"
   ]
  },
  {
   "cell_type": "markdown",
   "id": "cd857836",
   "metadata": {},
   "source": [
    "#### Replacing ages with values beelow 5 and above 90 with NaN"
   ]
  },
  {
   "cell_type": "code",
   "execution_count": 131,
   "id": "4eb4a6f4",
   "metadata": {},
   "outputs": [],
   "source": [
    "users.loc[(users['Age'] > 90) | (users['Age'] < 5), 'Age'] = np.nan"
   ]
  },
  {
   "cell_type": "code",
   "execution_count": 132,
   "id": "5f40dd06",
   "metadata": {},
   "outputs": [
    {
     "data": {
      "text/plain": [
       "112074"
      ]
     },
     "execution_count": 132,
     "metadata": {},
     "output_type": "execute_result"
    }
   ],
   "source": [
    "users['Age'].isna().sum()"
   ]
  },
  {
   "cell_type": "markdown",
   "id": "fab75529",
   "metadata": {},
   "source": [
    "#### Taking mean of age and replacing null values with mean"
   ]
  },
  {
   "cell_type": "code",
   "execution_count": 133,
   "id": "e0675643",
   "metadata": {},
   "outputs": [
    {
     "data": {
      "text/plain": [
       "34.72384041634689"
      ]
     },
     "execution_count": 133,
     "metadata": {},
     "output_type": "execute_result"
    }
   ],
   "source": [
    "users['Age'].mean()"
   ]
  },
  {
   "cell_type": "code",
   "execution_count": 134,
   "id": "73c9def3",
   "metadata": {},
   "outputs": [],
   "source": [
    "users['Age'].fillna(users['Age'].mean(), inplace=True)"
   ]
  },
  {
   "cell_type": "code",
   "execution_count": 135,
   "id": "b4fd4f78",
   "metadata": {},
   "outputs": [],
   "source": [
    "users['Age'] = users['Age'].astype('int32')"
   ]
  },
  {
   "cell_type": "code",
   "execution_count": 137,
   "id": "2c463fca",
   "metadata": {},
   "outputs": [
    {
     "name": "stdout",
     "output_type": "stream",
     "text": [
      "[5, 6, 7, 8, 9, 10, 11, 12, 13, 14, 15, 16, 17, 18, 19, 20, 21, 22, 23, 24, 25, 26, 27, 28, 29, 30, 31, 32, 33, 34, 35, 36, 37, 38, 39, 40, 41, 42, 43, 44, 45, 46, 47, 48, 49, 50, 51, 52, 53, 54, 55, 56, 57, 58, 59, 60, 61, 62, 63, 64, 65, 66, 67, 68, 69, 70, 71, 72, 73, 74, 75, 76, 77, 78, 79, 80, 81, 82, 83, 84, 85, 86, 87, 88, 89, 90]\n"
     ]
    }
   ],
   "source": [
    "print(sorted(users['Age'].unique()))"
   ]
  },
  {
   "cell_type": "code",
   "execution_count": 138,
   "id": "d8f163c3",
   "metadata": {},
   "outputs": [
    {
     "data": {
      "text/plain": [
       "0"
      ]
     },
     "execution_count": 138,
     "metadata": {},
     "output_type": "execute_result"
    }
   ],
   "source": [
    "users['Age'].isna().sum()"
   ]
  },
  {
   "cell_type": "markdown",
   "id": "6312a98c",
   "metadata": {},
   "source": [
    "#### Checking for n/a n/a n/a string in location and handling it"
   ]
  },
  {
   "cell_type": "code",
   "execution_count": 139,
   "id": "3e090114",
   "metadata": {},
   "outputs": [
    {
     "name": "stdout",
     "output_type": "stream",
     "text": [
      "Index positions of n/a, n/a, n/a in users : \n",
      "(3095, 'Location')\n",
      "(10646, 'Location')\n",
      "(11675, 'Location')\n",
      "(61592, 'Location')\n",
      "(70062, 'Location')\n",
      "(86150, 'Location')\n",
      "(119402, 'Location')\n",
      "(123570, 'Location')\n",
      "(184324, 'Location')\n",
      "(238301, 'Location')\n",
      "(271681, 'Location')\n"
     ]
    }
   ],
   "source": [
    "na_positions = get_null_indexes(users, 'n/a, n/a, n/a')\n",
    "print('Index positions of n/a, n/a, n/a in users : ')\n",
    "for i in range (len(na_positions)):\n",
    "    print(na_positions[i])"
   ]
  },
  {
   "cell_type": "code",
   "execution_count": 140,
   "id": "ba1f1877",
   "metadata": {},
   "outputs": [
    {
     "data": {
      "text/plain": [
       "11"
      ]
     },
     "execution_count": 140,
     "metadata": {},
     "output_type": "execute_result"
    }
   ],
   "source": [
    "len(na_positions)"
   ]
  },
  {
   "cell_type": "code",
   "execution_count": 141,
   "id": "4c0dede8",
   "metadata": {},
   "outputs": [
    {
     "data": {
      "text/plain": [
       "278858"
      ]
     },
     "execution_count": 141,
     "metadata": {},
     "output_type": "execute_result"
    }
   ],
   "source": [
    "len(users)"
   ]
  },
  {
   "cell_type": "code",
   "execution_count": 142,
   "id": "f66f9b28",
   "metadata": {},
   "outputs": [],
   "source": [
    "#dropping rows with n/a n/a n/a string\n",
    "users = users[users['Location'] != 'n/a, n/a, n/a']"
   ]
  },
  {
   "cell_type": "code",
   "execution_count": 143,
   "id": "c230d139",
   "metadata": {},
   "outputs": [
    {
     "data": {
      "text/plain": [
       "278847"
      ]
     },
     "execution_count": 143,
     "metadata": {},
     "output_type": "execute_result"
    }
   ],
   "source": [
    "len(users)"
   ]
  },
  {
   "cell_type": "code",
   "execution_count": 144,
   "id": "1c88e197",
   "metadata": {},
   "outputs": [],
   "source": [
    "users.to_csv('users_cleaned')"
   ]
  },
  {
   "cell_type": "markdown",
   "id": "40cc2c5c",
   "metadata": {},
   "source": [
    "### Ratings Dataframe"
   ]
  },
  {
   "cell_type": "code",
   "execution_count": 146,
   "id": "b65a3bd7",
   "metadata": {},
   "outputs": [
    {
     "name": "stdout",
     "output_type": "stream",
     "text": [
      "[0, 1, 2, 3, 4, 5, 6, 7, 8, 9, 10]\n"
     ]
    }
   ],
   "source": [
    "print(sorted(ratings['Book-Rating'].unique()))"
   ]
  },
  {
   "cell_type": "code",
   "execution_count": 147,
   "id": "a34fd157",
   "metadata": {},
   "outputs": [
    {
     "data": {
      "text/plain": [
       "1149780"
      ]
     },
     "execution_count": 147,
     "metadata": {},
     "output_type": "execute_result"
    }
   ],
   "source": [
    "len(ratings)"
   ]
  },
  {
   "cell_type": "code",
   "execution_count": 148,
   "id": "141e4201",
   "metadata": {},
   "outputs": [
    {
     "data": {
      "text/plain": [
       "User-ID        716109\n",
       "ISBN           716109\n",
       "Book-Rating    716109\n",
       "dtype: int64"
      ]
     },
     "execution_count": 148,
     "metadata": {},
     "output_type": "execute_result"
    }
   ],
   "source": [
    "ratings[ratings['Book-Rating'] == 0].count()"
   ]
  },
  {
   "cell_type": "code",
   "execution_count": 149,
   "id": "8929ce5e",
   "metadata": {},
   "outputs": [],
   "source": [
    "#dropping these rows with 0 value as they add no value to recommendation system\n",
    "ratings = ratings[ratings['Book-Rating'] != 0]"
   ]
  },
  {
   "cell_type": "code",
   "execution_count": 150,
   "id": "6475de0a",
   "metadata": {},
   "outputs": [
    {
     "data": {
      "text/plain": [
       "433671"
      ]
     },
     "execution_count": 150,
     "metadata": {},
     "output_type": "execute_result"
    }
   ],
   "source": [
    "len(ratings)"
   ]
  },
  {
   "cell_type": "code",
   "execution_count": 151,
   "id": "0c18141f",
   "metadata": {},
   "outputs": [],
   "source": [
    "ratings.to_csv('ratings_cleaned')"
   ]
  }
 ],
 "metadata": {
  "kernelspec": {
   "display_name": "Python 3",
   "language": "python",
   "name": "python3"
  },
  "language_info": {
   "codemirror_mode": {
    "name": "ipython",
    "version": 3
   },
   "file_extension": ".py",
   "mimetype": "text/x-python",
   "name": "python",
   "nbconvert_exporter": "python",
   "pygments_lexer": "ipython3",
   "version": "3.8.6"
  }
 },
 "nbformat": 4,
 "nbformat_minor": 5
}
